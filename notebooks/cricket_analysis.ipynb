import numpy as np
import pandas as pd
from matplotlib import pyplot as plt 
import seaborn as sns
from functools import partial



data = pd.read_csv("/content/WorldCup_11_batting_data.csv")
#data.head()
#data.info()

#Droping the unwanted columns
data = data.drop(columns = ["Mins"])

# Convert numeric columns to numbers(data type change)

cols_to_num = ["Runs", "Balls", "4s", "6s", "SR"]
for col in cols_to_num:
    data[col] = pd.to_numeric(data[col], errors="coerce")
# Group by player and aggregate stats
summary = data.groupby("Player").agg({
    "Runs": "sum",
    "Balls": "sum",
    "4s": "sum",
    "6s": "sum",
    "SR": "mean"
}).reset_index()

# Sort for Top 10 run scorers
top_scorers = summary.sort_values("Runs", ascending=False).head(10)

# Best strike rates (minimum 50 balls faced to avoid flukes)
best_sr = summary[summary["Balls"] >= 50].sort_values("SR", ascending=False).head(10)

# Most 6s
most_sixes = summary.sort_values("6s", ascending=False).head(10)

#print("Top 10 Run Scorers:\n", top_scorers)
#print("\nBest Strike Rates:\n", best_sr)
#print("\nMost Sixes:\n", most_sixes)



# Bar plot - Top 10 run scorers
plt.figure(figsize=(10,6))
sns.barplot(data=top_scorers, x="Runs", y="Player", palette="viridis")
plt.title("Top 10 Run Scorers - World Cup 2011")
plt.xlabel("Total Runs")
plt.ylabel("Player")
plt.show()

# Bar plot - Most Sixes
plt.figure(figsize=(10,6))
sns.barplot(data=most_sixes, x="6s", y="Player", palette="magma")
plt.title("Top 10 Players with Most Sixes")
plt.xlabel("Total Sixes")
plt.ylabel("Player")
plt.show()


plt.figure(figsize=(10,6))
sns.barplot(data =best_sr,x="SR",y="Player",palette="viridis")
plt.title("best strike rate having played minimum 50 balls ")
plt.show()
